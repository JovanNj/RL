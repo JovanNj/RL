{
 "cells": [
  {
   "cell_type": "markdown",
   "metadata": {},
   "source": [
    "# Markov Decission Process"
   ]
  },
  {
   "cell_type": "markdown",
   "metadata": {},
   "source": [
    "## Frozen Lake"
   ]
  },
  {
   "cell_type": "code",
   "execution_count": 1,
   "metadata": {
    "ExecuteTime": {
     "end_time": "2018-10-20T15:19:06.477309Z",
     "start_time": "2018-10-20T15:19:06.460310Z"
    }
   },
   "outputs": [],
   "source": [
    "import gym\n",
    "import numpy as np"
   ]
  },
  {
   "cell_type": "code",
   "execution_count": 2,
   "metadata": {
    "ExecuteTime": {
     "end_time": "2018-10-20T15:19:07.381655Z",
     "start_time": "2018-10-20T15:19:06.742657Z"
    }
   },
   "outputs": [],
   "source": [
    "env = gym.make('FrozenLake-v0')"
   ]
  },
  {
   "cell_type": "markdown",
   "metadata": {},
   "source": [
    "### Value based approach\n",
    "\n",
    "Initialize $V(s)$ to arbitrary values <br>\n",
    "Repeat<br>\n",
    "&emsp; For all $s \\in S$ <br>\n",
    "&emsp; &emsp; For all $a \\in A$ <br>\n",
    "&emsp; &emsp; &emsp;  $Q(s,a) \\gets E[r|s,a] + \\gamma\\sum_{s'\\in S}P(s'|s,a)V(s')$ <br>\n",
    "&emsp; &emsp; $V(s) \\gets max_aQ(s,a)$ <br>\n",
    "Until $V(s)$ converge\n"
   ]
  },
  {
   "cell_type": "code",
   "execution_count": 3,
   "metadata": {
    "ExecuteTime": {
     "end_time": "2018-10-20T15:19:08.018896Z",
     "start_time": "2018-10-20T15:19:08.010896Z"
    }
   },
   "outputs": [],
   "source": [
    "def value_iteration(env, gamma=1.0, n_iter=100000, threshold=1e-20):\n",
    "    value = np.zeros(env.env.nS)\n",
    "    policy = np.zeros(env.env.nS)\n",
    "    for i in range(n_iter):\n",
    "        prev_value = np.copy(value)\n",
    "        Q_table = np.zeros((env.env.nS, env.env.nA))\n",
    "        for state in range(env.env.nS):\n",
    "            for action in range(env.env.nA):\n",
    "                Q_table[state, action] = np.sum([\n",
    "                    trans_prob * (reward_prob + gamma * prev_value[next_state])\n",
    "                    for trans_prob, next_state, reward_prob, _ in env.env.P[state][action]\n",
    "                ])\n",
    "                \n",
    "            value[state] = max(Q_table[state,:])\n",
    "            policy[state] = np.argmax(Q_table[state,:])\n",
    "        if np.sum(np.fabs(value-prev_value))<=threshold:\n",
    "            print('Funkcija vrednosti je konvergirala nakon {} iteracija'.format(i+1))\n",
    "            break\n",
    "    return value, policy"
   ]
  },
  {
   "cell_type": "code",
   "execution_count": 4,
   "metadata": {
    "ExecuteTime": {
     "end_time": "2018-10-20T15:19:09.877513Z",
     "start_time": "2018-10-20T15:19:09.118513Z"
    }
   },
   "outputs": [
    {
     "name": "stdout",
     "output_type": "stream",
     "text": [
      "Funkcija vrednosti je konvergirala nakon 1373 iteracija\n",
      "[0. 3. 3. 3. 0. 0. 0. 0. 3. 1. 0. 0. 0. 2. 1. 0.]\n"
     ]
    }
   ],
   "source": [
    "optimal_value_function = value_iteration(env, gamma=1)\n",
    "print(optimal_value_function[1])"
   ]
  },
  {
   "cell_type": "markdown",
   "metadata": {},
   "source": [
    "### Policy based approach\n",
    "Initialize a policy $\\pi'$ to arbitrary values <br>\n",
    "Repeat <br>\n",
    "&emsp; $\\pi \\gets \\pi'$ <br>\n",
    "&emsp; Compute the values using $\\pi$ by solving the linear equations:<br>\n",
    "&emsp; $V^\\pi(s) = E[r|s,\\pi(s)] + \\gamma\\sum_{s'\\in S}P(s'|s,\\pi(s))V^\\pi(s')$ <br>\n",
    "&emsp; Improve the policy at each state: <br>\n",
    "&emsp; $\\pi'(s) \\gets argmax_a(E[r|s,a] + \\gamma\\sum_{s' \\in S}P(s'|s,a)V^\\pi(s'))$ <br>\n",
    "Until $\\pi = \\pi'$"
   ]
  },
  {
   "cell_type": "code",
   "execution_count": 5,
   "metadata": {
    "ExecuteTime": {
     "end_time": "2018-10-20T15:19:12.172628Z",
     "start_time": "2018-10-20T15:19:12.166627Z"
    }
   },
   "outputs": [],
   "source": [
    "def compute_value_function(env, policy, gamma=1.0, threshold=1e-10):\n",
    "    value = np.zeros(env.env.nS)\n",
    "    condition = True\n",
    "    while condition:\n",
    "        value_copy = np.copy(value)\n",
    "        for state in range(env.env.nS):\n",
    "            action = policy[state]\n",
    "            value[state] = sum([\n",
    "                trans_prob * (reward_prob + gamma * value_copy[next_state])\n",
    "                for trans_prob, next_state, reward_prob, _ in env.env.P[state][action]\n",
    "            ])\n",
    "        condition =  np.sum(np.fabs(value_copy - value))>threshold\n",
    "    return value  "
   ]
  },
  {
   "cell_type": "code",
   "execution_count": 6,
   "metadata": {
    "ExecuteTime": {
     "end_time": "2018-10-20T15:19:12.627501Z",
     "start_time": "2018-10-20T15:19:12.621520Z"
    }
   },
   "outputs": [],
   "source": [
    "def extract_policy(env, value, gamma=1.0):\n",
    "    policy = np.zeros(env.env.nS)\n",
    "    for state in range(env.env.nS):\n",
    "        Q_table = []\n",
    "        for action in range(env.env.nA):\n",
    "            Q_table.append(np.sum([\n",
    "                trans_prob * (reward_prob + gamma * value[next_state])\n",
    "                for trans_prob, next_state, reward_prob, _ in env.env.P[state][action]\n",
    "            ]))\n",
    "        policy[state] = np.argmax(Q_table)\n",
    "    return policy"
   ]
  },
  {
   "cell_type": "code",
   "execution_count": 7,
   "metadata": {
    "ExecuteTime": {
     "end_time": "2018-10-20T15:19:13.162089Z",
     "start_time": "2018-10-20T15:19:13.156087Z"
    }
   },
   "outputs": [],
   "source": [
    "def policy_iteration(env, n_iter=20000, gamma=1.0):\n",
    "    policy = np.zeros(env.env.nS)\n",
    "    for i in range(n_iter):\n",
    "        new_value_function = compute_value_function(env, policy, gamma)\n",
    "        new_policy = extract_policy(env, new_value_function, gamma)\n",
    "        if (np.all(new_policy==policy)):\n",
    "            print('Funkcija politika je konvergirala u {} koraku'.format(i+1))\n",
    "            break\n",
    "        policy = new_policy\n",
    "    return new_policy"
   ]
  },
  {
   "cell_type": "code",
   "execution_count": 8,
   "metadata": {
    "ExecuteTime": {
     "end_time": "2018-10-20T15:19:13.964983Z",
     "start_time": "2018-10-20T15:19:13.829964Z"
    },
    "scrolled": true
   },
   "outputs": [
    {
     "name": "stdout",
     "output_type": "stream",
     "text": [
      "Funkcija politika je konvergirala u 7 koraku\n",
      "[0. 3. 3. 3. 0. 0. 0. 0. 3. 1. 0. 0. 0. 2. 1. 0.]\n"
     ]
    }
   ],
   "source": [
    "optimal_policy = policy_iteration(env)\n",
    "print(optimal_policy)"
   ]
  },
  {
   "cell_type": "code",
   "execution_count": null,
   "metadata": {},
   "outputs": [],
   "source": []
  }
 ],
 "metadata": {
  "kernelspec": {
   "display_name": "Python 3",
   "language": "python",
   "name": "python3"
  },
  "language_info": {
   "codemirror_mode": {
    "name": "ipython",
    "version": 3
   },
   "file_extension": ".py",
   "mimetype": "text/x-python",
   "name": "python",
   "nbconvert_exporter": "python",
   "pygments_lexer": "ipython3",
   "version": "3.6.6"
  },
  "latex_envs": {
   "LaTeX_envs_menu_present": true,
   "autoclose": false,
   "autocomplete": true,
   "bibliofile": "biblio.bib",
   "cite_by": "apalike",
   "current_citInitial": 1,
   "eqLabelWithNumbers": true,
   "eqNumInitial": 1,
   "hotkeys": {
    "equation": "Ctrl-E",
    "itemize": "Ctrl-I"
   },
   "labels_anchors": false,
   "latex_user_defs": false,
   "report_style_numbering": false,
   "user_envs_cfg": false
  },
  "toc": {
   "base_numbering": 1,
   "nav_menu": {},
   "number_sections": true,
   "sideBar": true,
   "skip_h1_title": false,
   "title_cell": "Table of Contents",
   "title_sidebar": "Contents",
   "toc_cell": false,
   "toc_position": {},
   "toc_section_display": true,
   "toc_window_display": false
  },
  "varInspector": {
   "cols": {
    "lenName": 16,
    "lenType": 16,
    "lenVar": 40
   },
   "kernels_config": {
    "python": {
     "delete_cmd_postfix": "",
     "delete_cmd_prefix": "del ",
     "library": "var_list.py",
     "varRefreshCmd": "print(var_dic_list())"
    },
    "r": {
     "delete_cmd_postfix": ") ",
     "delete_cmd_prefix": "rm(",
     "library": "var_list.r",
     "varRefreshCmd": "cat(var_dic_list()) "
    }
   },
   "types_to_exclude": [
    "module",
    "function",
    "builtin_function_or_method",
    "instance",
    "_Feature"
   ],
   "window_display": false
  }
 },
 "nbformat": 4,
 "nbformat_minor": 2
}
